{
 "cells": [
  {
   "cell_type": "code",
   "execution_count": 7,
   "id": "38f7f997",
   "metadata": {},
   "outputs": [],
   "source": [
    "import pandas as pd\n",
    "import numpy as np\n",
    "\n",
    "#loading csv file\n",
    "df = pd.read_csv(\"Nifty 50.csv\", parse_dates=[\"Date\"])\n",
    "#sorting chronologically\n",
    "df = df.sort_values(\"Date\").reset_index(drop=True)\n",
    "\n",
    "#calculations\n",
    "df[\"Day_Return\"] = (df[\"Close\"] - df[\"Open\"]) / df[\"Open\"]\n",
    "df[\"Volatility\"] = df[\"High\"] - df[\"Low\"]\n",
    "df[\"DayOfWeek\"] = df[\"Date\"].dt.dayofweek\n",
    "df[\"Target_Close\"] = df[\"Close\"].shift(-1)\n",
    "\n",
    "#cleaning any missing data\n",
    "df = df.dropna().reset_index(drop=True)\n",
    "\n",
    "df.to_csv(\"stock_cleaned.csv\", index=False)"
   ]
  }
 ],
 "metadata": {
  "kernelspec": {
   "display_name": "base",
   "language": "python",
   "name": "python3"
  },
  "language_info": {
   "codemirror_mode": {
    "name": "ipython",
    "version": 3
   },
   "file_extension": ".py",
   "mimetype": "text/x-python",
   "name": "python",
   "nbconvert_exporter": "python",
   "pygments_lexer": "ipython3",
   "version": "3.12.7"
  }
 },
 "nbformat": 4,
 "nbformat_minor": 5
}
