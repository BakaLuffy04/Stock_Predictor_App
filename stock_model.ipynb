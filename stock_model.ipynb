{
 "cells": [
  {
   "cell_type": "code",
   "execution_count": null,
   "id": "3e8ac17e",
   "metadata": {},
   "outputs": [
    {
     "name": "stderr",
     "output_type": "stream",
     "text": [
      "C:\\Users\\spars\\AppData\\Roaming\\Python\\Python312\\site-packages\\keras\\src\\layers\\rnn\\rnn.py:199: UserWarning: Do not pass an `input_shape`/`input_dim` argument to a layer. When using Sequential models, prefer using an `Input(shape)` object as the first layer in the model instead.\n",
      "  super().__init__(**kwargs)\n"
     ]
    },
    {
     "name": "stdout",
     "output_type": "stream",
     "text": [
      "\u001b[1m28/28\u001b[0m \u001b[32m━━━━━━━━━━━━━━━━━━━━\u001b[0m\u001b[37m\u001b[0m \u001b[1m0s\u001b[0m 7ms/step\n",
      "Linear Regression RMSE: 190.75\n",
      "LSTM RMSE: 230.77\n",
      "✅ Best Model: Linear Regression (RMSE: 190.75)\n"
     ]
    },
    {
     "data": {
      "text/plain": [
       "['stock_lr_model.pkl']"
      ]
     },
     "execution_count": 9,
     "metadata": {},
     "output_type": "execute_result"
    }
   ],
   "source": [
    "import pandas as pd\n",
    "import numpy as np\n",
    "from sklearn.model_selection import train_test_split\n",
    "from sklearn.linear_model import LinearRegression\n",
    "from sklearn.metrics import mean_squared_error, mean_absolute_error\n",
    "import joblib\n",
    "import matplotlib.pyplot as plt\n",
    "\n",
    "# Load cleaned data\n",
    "df = pd.read_csv(\"stock_cleaned.csv\")\n",
    "\n",
    "# Drop Date column if exists and sort\n",
    "if \"Date\" in df.columns:\n",
    "    df = df.sort_values(\"Date\").drop(columns=[\"Date\"]).reset_index(drop=True)\n",
    "\n",
    "# -------------------- LINEAR REGRESSION MODEL --------------------\n",
    "\n",
    "# Define features and target\n",
    "features = [\"Open\", \"High\", \"Low\", \"Volume\", \"Volatility\", \"DayOfWeek\", \"Day_Return\"]\n",
    "target = \"Target_Close\"\n",
    "\n",
    "X = df[features]\n",
    "y = df[target]\n",
    "\n",
    "# Train/test split (80/20)\n",
    "X_train, X_test, y_train, y_test = train_test_split(X, y, test_size=0.2, shuffle=False)\n",
    "\n",
    "# Train model\n",
    "model = LinearRegression()\n",
    "model.fit(X_train, y_train)\n",
    "\n",
    "# Predictions\n",
    "y_pred = model.predict(X_test)\n",
    "\n",
    "# Evaluation\n",
    "mse = mean_squared_error(y_test, y_pred)\n",
    "rmse = mse ** 0.5\n",
    "mae = mean_absolute_error(y_test, y_pred)\n",
    "\n",
    "print(f\"📊 Linear Regression Evaluation:\")\n",
    "print(f\"• RMSE: {rmse:.2f}\")\n",
    "print(f\"• MAE: {mae:.2f}\")\n",
    "\n",
    "# Save model\n",
    "joblib.dump(model, \"stock_lr_model.pkl\")\n",
    "# Save metrics\n",
    "joblib.dump({\"rmse\": rmse, \"mae\": mae}, \"metrics.pkl\")\n",
    "\n"
   ]
  }
 ],
 "metadata": {
  "kernelspec": {
   "display_name": "base",
   "language": "python",
   "name": "python3"
  },
  "language_info": {
   "codemirror_mode": {
    "name": "ipython",
    "version": 3
   },
   "file_extension": ".py",
   "mimetype": "text/x-python",
   "name": "python",
   "nbconvert_exporter": "python",
   "pygments_lexer": "ipython3",
   "version": "3.12.7"
  }
 },
 "nbformat": 4,
 "nbformat_minor": 5
}
